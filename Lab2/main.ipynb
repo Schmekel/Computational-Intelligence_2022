{
 "cells": [
  {
   "cell_type": "code",
   "execution_count": 48,
   "metadata": {},
   "outputs": [],
   "source": [
    "import random\n",
    "from tkinter import N\n",
    "import numpy as np\n",
    "from itertools import groupby\n",
    "\n",
    "def problem(N, seed=None):\n",
    "    random.seed(seed)\n",
    "    return [\n",
    "        list(set(random.randint(0, N - 1) for n in range(random.randint(N // 5, N // 2))))\n",
    "        for n in range(random.randint(N, N * 5))\n",
    "    ]\n",
    "\n",
    "def fitness(individual):\n",
    "    goal = set(x for x in range(N))\n",
    "    unique_numbers = set()\n",
    "    for gene in individual:\n",
    "        for number in gene:\n",
    "            unique_numbers.add(number)\n",
    "    missing_numbers = goal - unique_numbers\n",
    "    all_elements = [single_element for l in individual for single_element in l]\n",
    "    duplicates = sum([len(list(group))-1 for key, group in groupby(sorted(all_elements))])\n",
    "    return -1000*len(missing_numbers) - duplicates\n",
    "\n",
    "def init(mu):\n",
    "    population_list = []\n",
    "    for _ in range(mu):\n",
    "        individual = random.choices(STATE_SPACE, k=random.randint(1, len(STATE_SPACE)))\n",
    "        fitness_value = fitness(individual)\n",
    "        population_list.append((fitness_value, individual))\n",
    "    return population_list\n",
    "\n",
    "def wheel(population):\n",
    "    population.sort(reverse=True)\n",
    "    parent = []\n",
    "    while len(parent) <= 1:\n",
    "        pick = random.randint(0, mu*(mu+1)/2)\n",
    "        inc = mu - 1\n",
    "        parent_index = 0\n",
    "        curr = mu\n",
    "        while pick > curr:\n",
    "            parent_index += 1\n",
    "            curr += inc\n",
    "            inc -= 1\n",
    "        parent = population[parent_index][1]\n",
    "    return population[parent_index]\n",
    "\n",
    "def crossover(population):\n",
    "    offspring = []        \n",
    "    for _ in range(round(offspring_size/2)):\n",
    "        parent1, parent2 = wheel(population), wheel(population)\n",
    "        if len(parent1[1]) <= 1 or len(parent2[1]) <= 1:\n",
    "            print(\"Parents are too short: \", parent1, parent2)\n",
    "            input()\n",
    "        cut1 = random.randint(1, len(parent1[1])-1)\n",
    "        cut2 = random.randint(1, len(parent2[1])-1)\n",
    "        #print(\"Cut 1 and 2 are\", cut1, cut2)\n",
    "        child1 = parent1[1][:cut1] + parent2[1][cut2:]\n",
    "        child2 = parent1[1][cut1:] + parent2[1][:cut2]\n",
    "        childs = [child1, child2]\n",
    "\n",
    "        for child in childs:\n",
    "            if random.random() < epsilon: #Probability to mutate the child\n",
    "                child = mutation(child)\n",
    "            fitness_value = fitness(child)\n",
    "            offspring = offspring + [(fitness_value, child)]\n",
    "    return offspring\n",
    "        \n",
    "\n",
    "def mutation(individual):\n",
    "    individual.pop(random.randrange(len(individual)))\n",
    "    individual.append(random.choice(STATE_SPACE))\n",
    "    return individual        \n"
   ]
  },
  {
   "cell_type": "code",
   "execution_count": 49,
   "metadata": {},
   "outputs": [],
   "source": [
    "N = 20\n",
    "seed = 42\n",
    "STATE_SPACE = problem(N, seed)\n",
    "seed = None\n"
   ]
  },
  {
   "cell_type": "code",
   "execution_count": 50,
   "metadata": {},
   "outputs": [
    {
     "name": "stdout",
     "output_type": "stream",
     "text": [
      "9\n",
      "{9, 11, 12}\n",
      "(-6, [[3, 6, 7, 10, 14, 17], [0, 1, 2, 7], [4, 5, 8, 13, 15, 16, 17, 19], [0, 1, 2, 3, 6, 13, 17, 18]])\n"
     ]
    }
   ],
   "source": [
    "#Initialize population and store as tuples in the population list\n",
    "mu = 30\n",
    "offspring_size = 20\n",
    "epsilon = 0.1 # Mutation probability \n",
    "population = init(mu)\n",
    "best_solution = population[0] #Pick a random initial best solution\n",
    "steady_state_count = 0\n",
    "\n",
    "for _ in range(2*500):\n",
    "    #print('Crossover the', _+1, '-th time.')\n",
    "    population = population + crossover(population)\n",
    "    population.sort(reverse=True)\n",
    "    if population[0][0] > best_solution[0]:\n",
    "        best_solution = population[0]\n",
    "        steady_state_count = 0\n",
    "    population = population[:mu]\n",
    "    steady_state_count += 1\n",
    "    if steady_state_count == 20: \n",
    "        for i in range(len(population)):\n",
    "            individual = population.pop(0)\n",
    "            mutated_individual = mutation(individual[1])\n",
    "            population.append((fitness(mutated_individual), mutated_individual))\n",
    "            \n",
    "\n",
    "all_elements = [single_element for l in best_solution[1] for single_element in l]\n",
    "duplicates = sum([len(list(group))-1 for key, group in groupby(sorted(all_elements))])\n",
    "print(duplicates)\n",
    "\n",
    "goal = set(x for x in range(N))\n",
    "unique_numbers = set()\n",
    "for gene in best_solution[1]:\n",
    "    for number in gene:\n",
    "        unique_numbers.add(number)\n",
    "missing_numbers = goal - unique_numbers\n",
    "print(missing_numbers)\n",
    "print(best_solution)"
   ]
  }
 ],
 "metadata": {
  "kernelspec": {
   "display_name": "Python 3.7.0 32-bit",
   "language": "python",
   "name": "python3"
  },
  "language_info": {
   "codemirror_mode": {
    "name": "ipython",
    "version": 3
   },
   "file_extension": ".py",
   "mimetype": "text/x-python",
   "name": "python",
   "nbconvert_exporter": "python",
   "pygments_lexer": "ipython3",
   "version": "3.7.0"
  },
  "orig_nbformat": 4,
  "vscode": {
   "interpreter": {
    "hash": "1c96d11993e7d280684d06cb23e31751296310acc16de0209c242ec6c1aebc7f"
   }
  }
 },
 "nbformat": 4,
 "nbformat_minor": 2
}
